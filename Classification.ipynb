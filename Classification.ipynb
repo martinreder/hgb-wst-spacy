{
  "cells": [
    {
      "cell_type": "markdown",
      "id": "2ef4d8ec-b651-43cd-b92a-7676e3fc8ec6",
      "metadata": {
        "id": "2ef4d8ec-b651-43cd-b92a-7676e3fc8ec6"
      },
      "source": [
        "### Loading our data\n",
        "\n",
        "For the following exercise we will use the word count matrix representation and only use a small subset of our data since we will implement a naiveBayes classifier - which is a \"lazy learner\" and so predictions will be rather slow."
      ]
    },
    {
      "cell_type": "code",
      "execution_count": 1,
      "id": "1c7efa9f-be80-4108-9387-6cd68255c89f",
      "metadata": {
        "id": "1c7efa9f-be80-4108-9387-6cd68255c89f"
      },
      "outputs": [],
      "source": [
        "from sklearn.model_selection import train_test_split\n",
        "from sklearn.metrics import confusion_matrix\n",
        "from sklearn.metrics import accuracy_score\n",
        "import matplotlib.pyplot as plt\n",
        "from tqdm import tqdm\n",
        "import pandas as pd\n",
        "import numpy as np\n",
        "import itertools\n",
        "\n",
        "classes_en = {1: \"World\", 2: \"Sports\", 3: \"Business\", 4: \"Sci/Tech\"}\n",
        "train_en = pd.read_csv(\"https://raw.githubusercontent.com/michabirklbauer/hgb_dse_text_mining/master/data/AGNews/train.csv\",\n",
        "                       names = [\"Label\", \"Title\", \"Article\"],\n",
        "                       encoding = \"utf-8\")\n",
        "test_en = pd.read_csv(\"https://raw.githubusercontent.com/michabirklbauer/hgb_dse_text_mining/master/data/AGNews/test.csv\",\n",
        "                      names = [\"Label\", \"Title\", \"Article\"],\n",
        "                      encoding = \"utf-8\")\n",
        "\n",
        "sample = train_en.sample(100)"
      ]
    },
    {
      "cell_type": "markdown",
      "id": "f007c515-5a39-4ad2-b904-bdca9a21df0e",
      "metadata": {
        "id": "f007c515-5a39-4ad2-b904-bdca9a21df0e"
      },
      "source": [
        "### Splitting data into a training dataset and a test dataset\n",
        "\n",
        "*Note:* Data splitting should be your first step in any data science project that involves some kind of machine learning, doing transformations - even something like word counts - will inherently introduce bias and make the calculated generalization error on the test datast less meaningful!"
      ]
    },
    {
      "cell_type": "code",
      "execution_count": 2,
      "id": "e2c52bfe-0d55-4e4b-b745-6805cdbe46a2",
      "metadata": {
        "colab": {
          "base_uri": "https://localhost:8080/",
          "height": 242
        },
        "id": "e2c52bfe-0d55-4e4b-b745-6805cdbe46a2",
        "outputId": "923e877a-f1eb-4dc5-905e-475fb5ecabf2"
      },
      "outputs": [
        {
          "output_type": "stream",
          "name": "stdout",
          "text": [
            "(65, 3)\n",
            "(35, 3)\n"
          ]
        },
        {
          "output_type": "execute_result",
          "data": {
            "text/plain": [
              "       Label                                              Title  \\\n",
              "92280      4                        Curtain rises on Solaris 10   \n",
              "59460      1  Nigerian Strike Set to Drag Into Fourth Day (R...   \n",
              "32048      2                               Tejada Rips Up Twins   \n",
              "77859      2                               Novak topples Henman   \n",
              "1518       2                           Hall-of-Fame credentials   \n",
              "\n",
              "                                                 Article  \n",
              "92280  Calling it  quot;the biggest thing we #39;ve d...  \n",
              "59460  Reuters - A general strike in Nigeria which ha...  \n",
              "32048  Miguel Tejada homers twice and drives in five ...  \n",
              "77859  JIRI Novak made Tim Henman #39;s life as miser...  \n",
              "1518   HAVEN, Wis. -- An official from the World Golf...  "
            ],
            "text/html": [
              "\n",
              "  <div id=\"df-364c8826-5413-412d-941a-e2f1e4d6930b\" class=\"colab-df-container\">\n",
              "    <div>\n",
              "<style scoped>\n",
              "    .dataframe tbody tr th:only-of-type {\n",
              "        vertical-align: middle;\n",
              "    }\n",
              "\n",
              "    .dataframe tbody tr th {\n",
              "        vertical-align: top;\n",
              "    }\n",
              "\n",
              "    .dataframe thead th {\n",
              "        text-align: right;\n",
              "    }\n",
              "</style>\n",
              "<table border=\"1\" class=\"dataframe\">\n",
              "  <thead>\n",
              "    <tr style=\"text-align: right;\">\n",
              "      <th></th>\n",
              "      <th>Label</th>\n",
              "      <th>Title</th>\n",
              "      <th>Article</th>\n",
              "    </tr>\n",
              "  </thead>\n",
              "  <tbody>\n",
              "    <tr>\n",
              "      <th>92280</th>\n",
              "      <td>4</td>\n",
              "      <td>Curtain rises on Solaris 10</td>\n",
              "      <td>Calling it  quot;the biggest thing we #39;ve d...</td>\n",
              "    </tr>\n",
              "    <tr>\n",
              "      <th>59460</th>\n",
              "      <td>1</td>\n",
              "      <td>Nigerian Strike Set to Drag Into Fourth Day (R...</td>\n",
              "      <td>Reuters - A general strike in Nigeria which ha...</td>\n",
              "    </tr>\n",
              "    <tr>\n",
              "      <th>32048</th>\n",
              "      <td>2</td>\n",
              "      <td>Tejada Rips Up Twins</td>\n",
              "      <td>Miguel Tejada homers twice and drives in five ...</td>\n",
              "    </tr>\n",
              "    <tr>\n",
              "      <th>77859</th>\n",
              "      <td>2</td>\n",
              "      <td>Novak topples Henman</td>\n",
              "      <td>JIRI Novak made Tim Henman #39;s life as miser...</td>\n",
              "    </tr>\n",
              "    <tr>\n",
              "      <th>1518</th>\n",
              "      <td>2</td>\n",
              "      <td>Hall-of-Fame credentials</td>\n",
              "      <td>HAVEN, Wis. -- An official from the World Golf...</td>\n",
              "    </tr>\n",
              "  </tbody>\n",
              "</table>\n",
              "</div>\n",
              "    <div class=\"colab-df-buttons\">\n",
              "\n",
              "  <div class=\"colab-df-container\">\n",
              "    <button class=\"colab-df-convert\" onclick=\"convertToInteractive('df-364c8826-5413-412d-941a-e2f1e4d6930b')\"\n",
              "            title=\"Convert this dataframe to an interactive table.\"\n",
              "            style=\"display:none;\">\n",
              "\n",
              "  <svg xmlns=\"http://www.w3.org/2000/svg\" height=\"24px\" viewBox=\"0 -960 960 960\">\n",
              "    <path d=\"M120-120v-720h720v720H120Zm60-500h600v-160H180v160Zm220 220h160v-160H400v160Zm0 220h160v-160H400v160ZM180-400h160v-160H180v160Zm440 0h160v-160H620v160ZM180-180h160v-160H180v160Zm440 0h160v-160H620v160Z\"/>\n",
              "  </svg>\n",
              "    </button>\n",
              "\n",
              "  <style>\n",
              "    .colab-df-container {\n",
              "      display:flex;\n",
              "      gap: 12px;\n",
              "    }\n",
              "\n",
              "    .colab-df-convert {\n",
              "      background-color: #E8F0FE;\n",
              "      border: none;\n",
              "      border-radius: 50%;\n",
              "      cursor: pointer;\n",
              "      display: none;\n",
              "      fill: #1967D2;\n",
              "      height: 32px;\n",
              "      padding: 0 0 0 0;\n",
              "      width: 32px;\n",
              "    }\n",
              "\n",
              "    .colab-df-convert:hover {\n",
              "      background-color: #E2EBFA;\n",
              "      box-shadow: 0px 1px 2px rgba(60, 64, 67, 0.3), 0px 1px 3px 1px rgba(60, 64, 67, 0.15);\n",
              "      fill: #174EA6;\n",
              "    }\n",
              "\n",
              "    .colab-df-buttons div {\n",
              "      margin-bottom: 4px;\n",
              "    }\n",
              "\n",
              "    [theme=dark] .colab-df-convert {\n",
              "      background-color: #3B4455;\n",
              "      fill: #D2E3FC;\n",
              "    }\n",
              "\n",
              "    [theme=dark] .colab-df-convert:hover {\n",
              "      background-color: #434B5C;\n",
              "      box-shadow: 0px 1px 3px 1px rgba(0, 0, 0, 0.15);\n",
              "      filter: drop-shadow(0px 1px 2px rgba(0, 0, 0, 0.3));\n",
              "      fill: #FFFFFF;\n",
              "    }\n",
              "  </style>\n",
              "\n",
              "    <script>\n",
              "      const buttonEl =\n",
              "        document.querySelector('#df-364c8826-5413-412d-941a-e2f1e4d6930b button.colab-df-convert');\n",
              "      buttonEl.style.display =\n",
              "        google.colab.kernel.accessAllowed ? 'block' : 'none';\n",
              "\n",
              "      async function convertToInteractive(key) {\n",
              "        const element = document.querySelector('#df-364c8826-5413-412d-941a-e2f1e4d6930b');\n",
              "        const dataTable =\n",
              "          await google.colab.kernel.invokeFunction('convertToInteractive',\n",
              "                                                    [key], {});\n",
              "        if (!dataTable) return;\n",
              "\n",
              "        const docLinkHtml = 'Like what you see? Visit the ' +\n",
              "          '<a target=\"_blank\" href=https://colab.research.google.com/notebooks/data_table.ipynb>data table notebook</a>'\n",
              "          + ' to learn more about interactive tables.';\n",
              "        element.innerHTML = '';\n",
              "        dataTable['output_type'] = 'display_data';\n",
              "        await google.colab.output.renderOutput(dataTable, element);\n",
              "        const docLink = document.createElement('div');\n",
              "        docLink.innerHTML = docLinkHtml;\n",
              "        element.appendChild(docLink);\n",
              "      }\n",
              "    </script>\n",
              "  </div>\n",
              "\n",
              "\n",
              "<div id=\"df-a0b479a2-2fa1-4c11-938d-eb0e88d90391\">\n",
              "  <button class=\"colab-df-quickchart\" onclick=\"quickchart('df-a0b479a2-2fa1-4c11-938d-eb0e88d90391')\"\n",
              "            title=\"Suggest charts\"\n",
              "            style=\"display:none;\">\n",
              "\n",
              "<svg xmlns=\"http://www.w3.org/2000/svg\" height=\"24px\"viewBox=\"0 0 24 24\"\n",
              "     width=\"24px\">\n",
              "    <g>\n",
              "        <path d=\"M19 3H5c-1.1 0-2 .9-2 2v14c0 1.1.9 2 2 2h14c1.1 0 2-.9 2-2V5c0-1.1-.9-2-2-2zM9 17H7v-7h2v7zm4 0h-2V7h2v10zm4 0h-2v-4h2v4z\"/>\n",
              "    </g>\n",
              "</svg>\n",
              "  </button>\n",
              "\n",
              "<style>\n",
              "  .colab-df-quickchart {\n",
              "      --bg-color: #E8F0FE;\n",
              "      --fill-color: #1967D2;\n",
              "      --hover-bg-color: #E2EBFA;\n",
              "      --hover-fill-color: #174EA6;\n",
              "      --disabled-fill-color: #AAA;\n",
              "      --disabled-bg-color: #DDD;\n",
              "  }\n",
              "\n",
              "  [theme=dark] .colab-df-quickchart {\n",
              "      --bg-color: #3B4455;\n",
              "      --fill-color: #D2E3FC;\n",
              "      --hover-bg-color: #434B5C;\n",
              "      --hover-fill-color: #FFFFFF;\n",
              "      --disabled-bg-color: #3B4455;\n",
              "      --disabled-fill-color: #666;\n",
              "  }\n",
              "\n",
              "  .colab-df-quickchart {\n",
              "    background-color: var(--bg-color);\n",
              "    border: none;\n",
              "    border-radius: 50%;\n",
              "    cursor: pointer;\n",
              "    display: none;\n",
              "    fill: var(--fill-color);\n",
              "    height: 32px;\n",
              "    padding: 0;\n",
              "    width: 32px;\n",
              "  }\n",
              "\n",
              "  .colab-df-quickchart:hover {\n",
              "    background-color: var(--hover-bg-color);\n",
              "    box-shadow: 0 1px 2px rgba(60, 64, 67, 0.3), 0 1px 3px 1px rgba(60, 64, 67, 0.15);\n",
              "    fill: var(--button-hover-fill-color);\n",
              "  }\n",
              "\n",
              "  .colab-df-quickchart-complete:disabled,\n",
              "  .colab-df-quickchart-complete:disabled:hover {\n",
              "    background-color: var(--disabled-bg-color);\n",
              "    fill: var(--disabled-fill-color);\n",
              "    box-shadow: none;\n",
              "  }\n",
              "\n",
              "  .colab-df-spinner {\n",
              "    border: 2px solid var(--fill-color);\n",
              "    border-color: transparent;\n",
              "    border-bottom-color: var(--fill-color);\n",
              "    animation:\n",
              "      spin 1s steps(1) infinite;\n",
              "  }\n",
              "\n",
              "  @keyframes spin {\n",
              "    0% {\n",
              "      border-color: transparent;\n",
              "      border-bottom-color: var(--fill-color);\n",
              "      border-left-color: var(--fill-color);\n",
              "    }\n",
              "    20% {\n",
              "      border-color: transparent;\n",
              "      border-left-color: var(--fill-color);\n",
              "      border-top-color: var(--fill-color);\n",
              "    }\n",
              "    30% {\n",
              "      border-color: transparent;\n",
              "      border-left-color: var(--fill-color);\n",
              "      border-top-color: var(--fill-color);\n",
              "      border-right-color: var(--fill-color);\n",
              "    }\n",
              "    40% {\n",
              "      border-color: transparent;\n",
              "      border-right-color: var(--fill-color);\n",
              "      border-top-color: var(--fill-color);\n",
              "    }\n",
              "    60% {\n",
              "      border-color: transparent;\n",
              "      border-right-color: var(--fill-color);\n",
              "    }\n",
              "    80% {\n",
              "      border-color: transparent;\n",
              "      border-right-color: var(--fill-color);\n",
              "      border-bottom-color: var(--fill-color);\n",
              "    }\n",
              "    90% {\n",
              "      border-color: transparent;\n",
              "      border-bottom-color: var(--fill-color);\n",
              "    }\n",
              "  }\n",
              "</style>\n",
              "\n",
              "  <script>\n",
              "    async function quickchart(key) {\n",
              "      const quickchartButtonEl =\n",
              "        document.querySelector('#' + key + ' button');\n",
              "      quickchartButtonEl.disabled = true;  // To prevent multiple clicks.\n",
              "      quickchartButtonEl.classList.add('colab-df-spinner');\n",
              "      try {\n",
              "        const charts = await google.colab.kernel.invokeFunction(\n",
              "            'suggestCharts', [key], {});\n",
              "      } catch (error) {\n",
              "        console.error('Error during call to suggestCharts:', error);\n",
              "      }\n",
              "      quickchartButtonEl.classList.remove('colab-df-spinner');\n",
              "      quickchartButtonEl.classList.add('colab-df-quickchart-complete');\n",
              "    }\n",
              "    (() => {\n",
              "      let quickchartButtonEl =\n",
              "        document.querySelector('#df-a0b479a2-2fa1-4c11-938d-eb0e88d90391 button');\n",
              "      quickchartButtonEl.style.display =\n",
              "        google.colab.kernel.accessAllowed ? 'block' : 'none';\n",
              "    })();\n",
              "  </script>\n",
              "</div>\n",
              "    </div>\n",
              "  </div>\n"
            ]
          },
          "metadata": {},
          "execution_count": 2
        }
      ],
      "source": [
        "train, test = train_test_split(sample, test_size = 0.35, random_state = 1337)\n",
        "print(train.shape)\n",
        "print(test.shape)\n",
        "train.head()"
      ]
    },
    {
      "cell_type": "markdown",
      "id": "736cb8f5-3c0b-4a93-b207-e66e6022c5bc",
      "metadata": {
        "id": "736cb8f5-3c0b-4a93-b207-e66e6022c5bc"
      },
      "source": [
        "### Creating the word count matrices\n",
        "\n",
        "Notice that we will not fit_transform the test data but apply the same transformation that we use for the training data."
      ]
    },
    {
      "cell_type": "code",
      "execution_count": 8,
      "id": "e50b0510-2c09-4ec6-9e28-b2a8933197e5",
      "metadata": {
        "colab": {
          "base_uri": "https://localhost:8080/"
        },
        "id": "e50b0510-2c09-4ec6-9e28-b2a8933197e5",
        "outputId": "68edce26-fd6e-4cf1-fa79-6cfe57656df0"
      },
      "outputs": [
        {
          "output_type": "stream",
          "name": "stdout",
          "text": [
            "(65, 967)\n",
            "(35, 967)\n",
            "(967,)\n"
          ]
        },
        {
          "output_type": "stream",
          "name": "stderr",
          "text": [
            "[nltk_data] Downloading package stopwords to /root/nltk_data...\n",
            "[nltk_data]   Unzipping corpora/stopwords.zip.\n"
          ]
        }
      ],
      "source": [
        "labels_train = [classes_en[int(row[\"Label\"])] for i, row in train.iterrows()]\n",
        "docs_train = [row[\"Article\"] for i, row in train.iterrows()]\n",
        "labels_test = [classes_en[int(row[\"Label\"])] for i, row in test.iterrows()]\n",
        "docs_test = [row[\"Article\"] for i, row in test.iterrows()]\n",
        "\n",
        "from nltk.corpus import stopwords as nltkStopwords\n",
        "from sklearn.feature_extraction.text import CountVectorizer\n",
        "import nltk\n",
        "nltk.download('stopwords')\n",
        "stopwords_en = list(nltkStopwords.words(\"english\"))\n",
        "count_vectorizer = CountVectorizer(strip_accents = \"unicode\",\n",
        "                                   stop_words = stopwords_en)\n",
        "\n",
        "X_train = count_vectorizer.fit_transform(docs_train)\n",
        "X_test = count_vectorizer.transform(docs_test)\n",
        "counts_features_names = count_vectorizer.get_feature_names_out()\n",
        "print(X_train.shape)\n",
        "print(X_test.shape)\n",
        "print(counts_features_names.shape)\n",
        "\n",
        "counts_train = pd.DataFrame(X_train.A, columns = counts_features_names)\n",
        "counts_train[\"Label\"] = labels_train\n",
        "counts_test = pd.DataFrame(X_test.A, columns = counts_features_names)\n",
        "counts_test[\"Label\"] = labels_test"
      ]
    },
    {
      "cell_type": "markdown",
      "id": "a5a0647a-6646-49f8-b9ae-646b2e7aef99",
      "metadata": {
        "id": "a5a0647a-6646-49f8-b9ae-646b2e7aef99"
      },
      "source": [
        "### Use the following function to plot confusion matrices of the predictions"
      ]
    },
    {
      "cell_type": "code",
      "execution_count": 9,
      "id": "e6210175-dbea-4ea8-aacb-b539473c7149",
      "metadata": {
        "id": "e6210175-dbea-4ea8-aacb-b539473c7149"
      },
      "outputs": [],
      "source": [
        "def plot_confusion_matrix(cm, classes, normalize = False, title = \"Confusion matrix\", cmap = plt.cm.Blues):\n",
        "\n",
        "    plt.imshow(cm, interpolation = \"nearest\", cmap = cmap)\n",
        "    plt.title(title)\n",
        "    plt.colorbar()\n",
        "    tick_marks = np.arange(len(classes))\n",
        "    plt.xticks(tick_marks, classes, rotation = 45)\n",
        "    plt.yticks(tick_marks, classes)\n",
        "\n",
        "    if normalize:\n",
        "        cm = cm.astype(\"float\") / cm.sum(axis = 1)[:, np.newaxis]\n",
        "        print(\"Normalized confusion matrix\")\n",
        "\n",
        "    thresh = cm.max() / 2.\n",
        "    for i, j in itertools.product(range(cm.shape[0]), range(cm.shape[1])):\n",
        "        plt.text(j, i, cm[i, j],\n",
        "                 horizontalalignment = \"center\",\n",
        "                 color=\"white\" if cm[i, j] > thresh else \"black\")\n",
        "\n",
        "    plt.tight_layout()\n",
        "    plt.ylim(len(cm) - 0.5, -0.5)\n",
        "    plt.ylabel(\"True label\")\n",
        "    plt.xlabel(\"Predicted label\")\n",
        "\n",
        "    return cm"
      ]
    },
    {
      "cell_type": "markdown",
      "id": "e4668bef-ea9c-4356-a4a6-f0896ec4799d",
      "metadata": {
        "id": "e4668bef-ea9c-4356-a4a6-f0896ec4799d"
      },
      "source": [
        "# **Classification**\n",
        "\n",
        "### **Exercise:** Implement a NaiveBayes classifier that follows a lazy-learning approach -> conditional probabilities are not saved but calculated on demand. A class skeleton with documentation is given which you *may* use. But you can also come up with your own approach!\n",
        "\n",
        "**NaiveBayes Classifier Implementation - Documentation:**\n",
        "\n",
        "*class NaiveBayes(data, target, delta=1)*\n",
        "\n",
        "- Parameters:\n",
        "  - data: a pandas dataframe (pandas.DataFrame)\n",
        "  - target: column name of response variable (string)\n",
        "  - delta: Lidstone's Law Succession's delta (int)\n",
        "      - if delta = 0 this corresponds to base NaiveBayes\n",
        "      - if delta = 1 this corresponds to Laplace Estimation\n",
        "      - DEFAULT: 1\n",
        "      \n",
        "*method predict(x, has_target=False)*\n",
        "\n",
        "- Parameters:\n",
        "  - x: a pandas series (pandas.Series)\n",
        "  - has_target: whether or not x is still labeled (bool)\n",
        "    - DEFAULT: False\n",
        "- Return:\n",
        "  - predicted label (int/string)"
      ]
    },
    {
      "cell_type": "code",
      "execution_count": 12,
      "id": "7a629cd5-7444-4b3e-b52a-afcc51657e4c",
      "metadata": {
        "id": "7a629cd5-7444-4b3e-b52a-afcc51657e4c"
      },
      "outputs": [],
      "source": [
        "class NaiveBayes:\n",
        "\n",
        "    def __init__(self, data, target, delta=1):\n",
        "        self.data = data\n",
        "        self.target = target\n",
        "        self.delta = delta\n",
        "        return\n",
        "\n",
        "    def predict(self, x, has_target=False):\n",
        "\n",
        "        data = self.data\n",
        "        target = self.target\n",
        "        delta = self.delta\n",
        "\n",
        "        # Implement a function P(C) that returns\n",
        "        # the probability of Class C in the dataset which is\n",
        "        # nr. of rows with C / nr. of rows\n",
        "        # Hint: to get the number of rows of a pandas dataframe use df.shape[0]\n",
        "        def P(C):\n",
        "           # Calculate and return P(C)\n",
        "          class_count = data[target].value_counts()[C]\n",
        "          total_count = data.shape[0]\n",
        "          return class_count / total_count\n",
        "\n",
        "\n",
        "        # Implement a function P_conditional(f, F, C) that returns\n",
        "        # the conditional Probability of a Feature f having the value F, given class C which is\n",
        "        # nr. of rows that have both F and C / nr. of rows that have C\n",
        "        # (optionally + delta: (nr. of rows that have both F and C + delta)/(nr. of rows that have C + nr. of unique feature values in f * delta)\n",
        "        # ^ this is called Lidstone's Law Succession and adresses the problem of the probability going to 0 as soon as feature does not occur (very frequently)\n",
        "        def P_conditional(f, F, C):\n",
        "          nr_of_rows_with_C_and_F = data[(data[target] == C) & (data[F] == f)].shape[0]\n",
        "          nr_of_rows_with_c = data[data[target]==C].shape[0]\n",
        "          return nr_of_rows_with_C_and_F / nr_of_rows_with_c\n",
        "\n",
        "\n",
        "        # we can retrieve our features like this\n",
        "        features = x.index.tolist()\n",
        "        if has_target:\n",
        "            features.remove(target)\n",
        "\n",
        "        # res will be our result vector that will consist of tuples of\n",
        "        # C <-> probability\n",
        "        # So the probability the our predicted class is C\n",
        "        # in our case res will be of length 4: World, Sports, Business, Sci/Tech\n",
        "        # and each class will be associated with a probability\n",
        "        res = []\n",
        "\n",
        "        # The Conditional Probability of class C given features f\n",
        "        # = Product of Probability of Class C and all Conditional Probabilities F of f given C\n",
        "        # for class in classes\n",
        "        for C_i in data[target].unique().tolist():\n",
        "            # calculate the probability of class C\n",
        "            r = P(C_i)\n",
        "\n",
        "            # multiply the above probability of class C with the Conditional Probability of Feature f having the value F, given class C for every feature\n",
        "            for f in features:\n",
        "                r *= P_conditional(f, x[f], C_i)\n",
        "\n",
        "            res.append((r, C_i))\n",
        "\n",
        "        # Predict class C that has highest Probability\n",
        "        res.sort(key=lambda x: x[0], reverse=True)\n",
        "        argmax = res[0][1]\n",
        "\n",
        "        return argmax"
      ]
    },
    {
      "cell_type": "code",
      "execution_count": 13,
      "id": "2df90bb9-24d7-4590-a843-a286b6da0b2c",
      "metadata": {
        "id": "2df90bb9-24d7-4590-a843-a286b6da0b2c"
      },
      "outputs": [],
      "source": [
        "NB = NaiveBayes(data = counts_train, target = \"Label\", delta = 1)"
      ]
    },
    {
      "cell_type": "markdown",
      "id": "6c4e02ac-2fd5-485c-b623-a12df97e52d3",
      "metadata": {
        "id": "6c4e02ac-2fd5-485c-b623-a12df97e52d3"
      },
      "source": [
        "### Evaluate your implementation on the training data..."
      ]
    },
    {
      "cell_type": "code",
      "execution_count": null,
      "id": "876ef0d7-7837-4ba8-94ea-9bc890762e62",
      "metadata": {
        "colab": {
          "base_uri": "https://localhost:8080/"
        },
        "id": "876ef0d7-7837-4ba8-94ea-9bc890762e62",
        "outputId": "8a447741-c3f7-4c9c-da02-7a24ed039aba"
      },
      "outputs": [
        {
          "output_type": "stream",
          "name": "stderr",
          "text": [
            "progress bar:  43%|████▎     | 28/65 [02:54<04:56,  8.00s/it]"
          ]
        }
      ],
      "source": [
        "tqdm.pandas(desc = \"progress bar\")\n",
        "predictions_train = counts_train.progress_apply(lambda row: NB.predict(row, has_target = True), axis = 1)"
      ]
    },
    {
      "cell_type": "code",
      "execution_count": null,
      "id": "d5d28049-9034-4106-b7e8-014a91199114",
      "metadata": {
        "id": "d5d28049-9034-4106-b7e8-014a91199114"
      },
      "outputs": [],
      "source": [
        "conf = confusion_matrix(counts_train[\"Label\"], predictions_train)\n",
        "\n",
        "plt.figure()\n",
        "plot = plot_confusion_matrix(conf, classes = [\"World\", \"Sports\", \"Business\", \"Sci/Tech\"], title = \"Confusion matrix - Train Split\")\n",
        "plt.show()"
      ]
    },
    {
      "cell_type": "code",
      "execution_count": 16,
      "id": "5d1357cd-54ed-4b0b-a514-6d783a286a1b",
      "metadata": {
        "colab": {
          "base_uri": "https://localhost:8080/"
        },
        "id": "5d1357cd-54ed-4b0b-a514-6d783a286a1b",
        "outputId": "4ace6283-3163-4db8-d4aa-63c39e821a5a"
      },
      "outputs": [
        {
          "output_type": "stream",
          "name": "stdout",
          "text": [
            "Train Accuracy:  0.8615384615384616\n"
          ]
        }
      ],
      "source": [
        "print(\"Train Accuracy: \", accuracy_score(counts_train[\"Label\"], predictions_train))"
      ]
    },
    {
      "cell_type": "markdown",
      "id": "a3dd8010-9777-4366-af31-6dc83cc84e25",
      "metadata": {
        "id": "a3dd8010-9777-4366-af31-6dc83cc84e25"
      },
      "source": [
        "### ...and on the test data"
      ]
    },
    {
      "cell_type": "code",
      "execution_count": 17,
      "id": "0410697d-2f38-484c-a908-395d86eed230",
      "metadata": {
        "colab": {
          "base_uri": "https://localhost:8080/"
        },
        "id": "0410697d-2f38-484c-a908-395d86eed230",
        "outputId": "e39da8a7-deb3-4d34-eb5d-3acc2b91c9b0"
      },
      "outputs": [
        {
          "output_type": "stream",
          "name": "stderr",
          "text": [
            "progress bar: 100%|██████████| 35/35 [02:48<00:00,  4.81s/it]\n"
          ]
        }
      ],
      "source": [
        "tqdm.pandas(desc = \"progress bar\")\n",
        "predictions_test = counts_test.progress_apply(lambda row: NB.predict(row, has_target = True), axis = 1)"
      ]
    },
    {
      "cell_type": "code",
      "execution_count": 18,
      "id": "4cd0ed61-856f-461d-abb0-6c8f1d9c9f9c",
      "metadata": {
        "colab": {
          "base_uri": "https://localhost:8080/",
          "height": 506
        },
        "id": "4cd0ed61-856f-461d-abb0-6c8f1d9c9f9c",
        "outputId": "966e4ead-7d8f-4901-c1bf-a2b2a6567e44"
      },
      "outputs": [
        {
          "output_type": "display_data",
          "data": {
            "text/plain": [
              "<Figure size 640x480 with 2 Axes>"
            ],
            "image/png": "[encoded data removed]"
          },
          "metadata": {}
        }
      ],
      "source": [
        "conf = confusion_matrix(counts_test[\"Label\"], predictions_test)\n",
        "\n",
        "plt.figure()\n",
        "plot = plot_confusion_matrix(conf, classes = [\"World\", \"Sports\", \"Business\", \"Sci/Tech\"], title = \"Confusion matrix - Test Split\")\n",
        "plt.show()"
      ]
    },
    {
      "cell_type": "code",
      "execution_count": 19,
      "id": "3baadbb0-469b-4be2-88d8-559f17ae2b84",
      "metadata": {
        "colab": {
          "base_uri": "https://localhost:8080/"
        },
        "id": "3baadbb0-469b-4be2-88d8-559f17ae2b84",
        "outputId": "3cfe920e-84b7-4b7c-d97e-a9d83f5bed8d"
      },
      "outputs": [
        {
          "output_type": "stream",
          "name": "stdout",
          "text": [
            "Test Accuracy:  0.2\n"
          ]
        }
      ],
      "source": [
        "print(\"Test Accuracy: \", accuracy_score(counts_test[\"Label\"], predictions_test))"
      ]
    },
    {
      "cell_type": "markdown",
      "id": "c9bdd589-e7b0-465a-9490-9ed9b764842f",
      "metadata": {
        "id": "c9bdd589-e7b0-465a-9490-9ed9b764842f"
      },
      "source": [
        "### What can you observe?\n",
        "\n",
        "Does it work well? What does accuracy in this context mean given that we have four balanced classes (and we assume that our sample is truly random)? What could be pitfalls why the classifier doesn't work well?"
      ]
    },
    {
      "cell_type": "markdown",
      "id": "4e111cae-ed6d-49c2-9e25-ca91471f2849",
      "metadata": {
        "id": "4e111cae-ed6d-49c2-9e25-ca91471f2849"
      },
      "source": [
        "### **Bonus Exercise:** Performance on \"cleaned\" data.\n",
        "\n",
        "Run the naiveBayes classifier on the \"cleaned\" dataset from the clustering exercise. For example, import the cleaning function from `clean.py` and apply it to training and test partition with the code below:\n",
        "\n",
        "```python\n",
        "from clean import clean\n",
        "\n",
        "docs_cleaned_train = [clean(row[\"Article\"]) for i, row in train.iterrows()]\n",
        "docs_cleaned_test = [clean(row[\"Article\"]) for i, row in test.iterrows()]\n",
        "```\n",
        "\n",
        "Compare the performance between the \"cleaned\" and \"not cleaned\" datasets, which one performs better?"
      ]
    },
    {
      "cell_type": "markdown",
      "id": "5a779740-349f-470e-bdf7-bdc5c47280e3",
      "metadata": {
        "id": "5a779740-349f-470e-bdf7-bdc5c47280e3"
      },
      "source": [
        "### **Bonus Exercise:** Speeding up naiveBayes.\n",
        "\n",
        "As you can see this implementation of the naiveBayes classification algorithm is very slow and inefficient. How could we potentially improve performance and speed up prediction? Try to implement a more efficient naiveBayes classifier."
      ]
    },
    {
      "cell_type": "markdown",
      "id": "48b4033e-cdb8-4dff-ad45-ddbc4f95fcda",
      "metadata": {
        "id": "48b4033e-cdb8-4dff-ad45-ddbc4f95fcda"
      },
      "source": [
        "### **Alternative/Bonus Exercise:** Implement the kNN algorithm using the TF-IDF matrix representation and using the cosine distance!\n",
        "\n",
        "Compare (the performance of) your solution to that of the kNN implementation of sklearn: [https://scikit-learn.org/stable/modules/generated/sklearn.neighbors.KNeighborsClassifier.html](https://scikit-learn.org/stable/modules/generated/sklearn.neighbors.KNeighborsClassifier.html)"
      ]
    },
    {
      "cell_type": "code",
      "execution_count": null,
      "id": "f1a06187-699b-4890-9a78-ec3b7c45ac40",
      "metadata": {
        "id": "f1a06187-699b-4890-9a78-ec3b7c45ac40"
      },
      "outputs": [],
      "source": []
    }
  ],
  "metadata": {
    "kernelspec": {
      "display_name": "Python 3 (ipykernel)",
      "language": "python",
      "name": "python3"
    },
    "language_info": {
      "codemirror_mode": {
        "name": "ipython",
        "version": 3
      },
      "file_extension": ".py",
      "mimetype": "text/x-python",
      "name": "python",
      "nbconvert_exporter": "python",
      "pygments_lexer": "ipython3",
      "version": "3.12.0"
    },
    "colab": {
      "provenance": []
    }
  },
  "nbformat": 4,
  "nbformat_minor": 5
}